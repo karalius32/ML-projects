{
  "nbformat": 4,
  "nbformat_minor": 0,
  "metadata": {
    "colab": {
      "provenance": []
    },
    "kernelspec": {
      "name": "python3",
      "display_name": "Python 3"
    },
    "language_info": {
      "name": "python"
    }
  },
  "cells": [
    {
      "cell_type": "code",
      "source": [
        "import time\n",
        "import numpy as np"
      ],
      "metadata": {
        "id": "XJ7aFZwkOTZJ"
      },
      "execution_count": 38,
      "outputs": []
    },
    {
      "cell_type": "code",
      "source": [
        "def sigmoid(X):\n",
        "  return 1 / (1 + np.exp(-X))"
      ],
      "metadata": {
        "id": "zurUOQZQaGoD"
      },
      "execution_count": 41,
      "outputs": []
    },
    {
      "cell_type": "code",
      "source": [
        "def relu(X):\n",
        "  return np.max(X, 0)"
      ],
      "metadata": {
        "id": "datQs64OaqVr"
      },
      "execution_count": 45,
      "outputs": []
    },
    {
      "cell_type": "code",
      "source": [
        "def calculate_time(X, method):\n",
        "  start = time.time()\n",
        "  method(X)\n",
        "  end = time.time()\n",
        "  return (end - start) * 1000"
      ],
      "metadata": {
        "id": "0ved98mcavDT"
      },
      "execution_count": 46,
      "outputs": []
    },
    {
      "cell_type": "code",
      "source": [
        "X = np.random.rand(1000)\n",
        "n = 1000000"
      ],
      "metadata": {
        "id": "d7GkSK9SbVgT"
      },
      "execution_count": 98,
      "outputs": []
    },
    {
      "cell_type": "code",
      "source": [
        "np.mean([calculate_time(X, sigmoid) for i in range(n)])"
      ],
      "metadata": {
        "colab": {
          "base_uri": "https://localhost:8080/"
        },
        "id": "ltucLo8Uage6",
        "outputId": "83d3f378-7c73-4173-9797-58bd4a4e9cac"
      },
      "execution_count": 101,
      "outputs": [
        {
          "output_type": "execute_result",
          "data": {
            "text/plain": [
              "0.01070167899131775"
            ]
          },
          "metadata": {},
          "execution_count": 101
        }
      ]
    },
    {
      "cell_type": "code",
      "source": [
        "np.mean([calculate_time(X, relu) for i in range(n)])"
      ],
      "metadata": {
        "colab": {
          "base_uri": "https://localhost:8080/"
        },
        "id": "xenAuoWKbtEj",
        "outputId": "60aeba5e-c05d-40da-a59a-3b7205db94d6"
      },
      "execution_count": 102,
      "outputs": [
        {
          "output_type": "execute_result",
          "data": {
            "text/plain": [
              "0.0037029731273651124"
            ]
          },
          "metadata": {},
          "execution_count": 102
        }
      ]
    }
  ]
}