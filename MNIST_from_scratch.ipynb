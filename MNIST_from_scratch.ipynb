{
  "nbformat": 4,
  "nbformat_minor": 0,
  "metadata": {
    "colab": {
      "provenance": []
    },
    "kernelspec": {
      "name": "python3",
      "display_name": "Python 3"
    },
    "language_info": {
      "name": "python"
    }
  },
  "cells": [
    {
      "cell_type": "code",
      "execution_count": 1,
      "metadata": {
        "id": "0ngkbzDXkkQF"
      },
      "outputs": [],
      "source": [
        "from tensorflow import keras\n",
        "import pandas as pd\n",
        "from matplotlib import pyplot as plt\n",
        "import numpy as np"
      ]
    },
    {
      "cell_type": "code",
      "source": [
        "df = keras.datasets.mnist.load_data()\n",
        "(X_train, y_train), (X_test, y_test) = df"
      ],
      "metadata": {
        "id": "ukGpsqkXnOqR",
        "colab": {
          "base_uri": "https://localhost:8080/"
        },
        "outputId": "fff16c27-ca9c-48c5-81b2-f63b3a7ddbc0"
      },
      "execution_count": 2,
      "outputs": [
        {
          "output_type": "stream",
          "name": "stdout",
          "text": [
            "Downloading data from https://storage.googleapis.com/tensorflow/tf-keras-datasets/mnist.npz\n",
            "11490434/11490434 [==============================] - 0s 0us/step\n"
          ]
        }
      ]
    },
    {
      "cell_type": "code",
      "source": [
        "X_train = keras.utils.normalize(X_train, axis=1)\n",
        "X_test = keras.utils.normalize(X_test, axis=1)"
      ],
      "metadata": {
        "id": "usYQHtbMpa-P"
      },
      "execution_count": 3,
      "outputs": []
    },
    {
      "cell_type": "code",
      "source": [
        "X_train, X_val = X_train[:50000], X_train[50000:]\n",
        "y_train, y_val = y_train[:50000],y_train[50000:]"
      ],
      "metadata": {
        "id": "xa_qBdehpNcX"
      },
      "execution_count": 4,
      "outputs": []
    },
    {
      "cell_type": "code",
      "source": [
        "plt.imshow(X_train[0], cmap=\"binary\")"
      ],
      "metadata": {
        "colab": {
          "base_uri": "https://localhost:8080/",
          "height": 447
        },
        "id": "jcS0mxSXtb0A",
        "outputId": "7002f5eb-b77a-4dc2-f9aa-6daa69e6bb01"
      },
      "execution_count": 5,
      "outputs": [
        {
          "output_type": "execute_result",
          "data": {
            "text/plain": [
              "<matplotlib.image.AxesImage at 0x79d450397700>"
            ]
          },
          "metadata": {},
          "execution_count": 5
        },
        {
          "output_type": "display_data",
          "data": {
            "text/plain": [
              "<Figure size 640x480 with 1 Axes>"
            ],
            "image/png": "[encoded data removed]"
          },
          "metadata": {}
        }
      ]
    },
    {
      "cell_type": "code",
      "source": [
        "len(X_train[0].ravel())"
      ],
      "metadata": {
        "colab": {
          "base_uri": "https://localhost:8080/"
        },
        "id": "UfuwXvXdtd5I",
        "outputId": "a8da4849-378b-4453-efeb-855bf938f2ff"
      },
      "execution_count": 6,
      "outputs": [
        {
          "output_type": "execute_result",
          "data": {
            "text/plain": [
              "784"
            ]
          },
          "metadata": {},
          "execution_count": 6
        }
      ]
    },
    {
      "cell_type": "code",
      "source": [
        "def relu(X, clip_value=None):\n",
        "  output = np.maximum(0, X)\n",
        "  if clip_value == None:\n",
        "    return output\n",
        "  else:\n",
        "    return np.minimum(X, clip_value)\n",
        "\n",
        "def relu_derivative(X):\n",
        "  return np.where(X > 0, 1, 0)\n",
        "\n",
        "def prob(X):\n",
        "  return X / sum(X)"
      ],
      "metadata": {
        "id": "49DPjOZVuK_o"
      },
      "execution_count": 7,
      "outputs": []
    },
    {
      "cell_type": "code",
      "source": [
        "input_size = 784\n",
        "hidden_size_1 = 100\n",
        "hidden_size_2 = 100\n",
        "output_size = 10"
      ],
      "metadata": {
        "id": "B--Uv0SMuewI"
      },
      "execution_count": 8,
      "outputs": []
    },
    {
      "cell_type": "code",
      "source": [
        "w1 = np.random.rand(input_size, hidden_size_1)\n",
        "b1 = np.random.rand(1, hidden_size_1)\n",
        "w2 = np.random.rand(hidden_size_1, hidden_size_2)\n",
        "b2 = np.random.rand(1, hidden_size_2)\n",
        "w3 = np.random.rand(hidden_size_2, output_size)\n",
        "b3 = np.random.rand(1, output_size)\n",
        "\n",
        "wb = {\"w1\": w1, \"b1\": b1, \"w2\": w2, \"b2\": b2, \"w3\": w3, \"b3\": b3}"
      ],
      "metadata": {
        "id": "OqmQeBZ4z11h"
      },
      "execution_count": 28,
      "outputs": []
    },
    {
      "cell_type": "code",
      "source": [
        "def forward(X, wb, clip_value=None, return_output=True):\n",
        "  X = np.array([x.ravel() for x in X])\n",
        "  z1 = np.matmul(X, wb[\"w1\"]) + wb[\"b1\"]\n",
        "  a1 = relu(z1, clip_value)\n",
        "  z2 = np.matmul(a1, wb[\"w2\"]) + wb[\"b2\"]\n",
        "  a2 = relu(z2, clip_value)\n",
        "  #print(a2)\n",
        "  z3 = np.matmul(a2, wb[\"w3\"]) + wb[\"b3\"]\n",
        "  a3 = prob(z3)\n",
        "\n",
        "  if return_output:\n",
        "    return a3\n",
        "  else:\n",
        "    return z1, z2, z3, a1, a2, a3"
      ],
      "metadata": {
        "id": "yXxmNVFFwEEo"
      },
      "execution_count": 10,
      "outputs": []
    },
    {
      "cell_type": "code",
      "source": [
        "def predict(X):\n",
        "  return np.array([np.argmax(y) for y in forward(X, wb)])\n",
        "\n",
        "def accuracy(X, y_true):\n",
        "  y_pred = predict(X)\n",
        "  return np.sum(np.where(y_pred == y_true, 1, 0)) / len(y_pred)"
      ],
      "metadata": {
        "id": "9xVALkcspopl"
      },
      "execution_count": 11,
      "outputs": []
    },
    {
      "cell_type": "code",
      "source": [
        "def backpropagation(X, y, wb, learning_rate, clip_value):\n",
        "  X = np.array([x.ravel() for x in X])\n",
        "  y = np.array([[1 if i == _y else 0 for i in range(10)] for _y in y])\n",
        "  z1, z2, z3, a1, a2, a3 = forward(X, wb, clip_value, False)\n",
        "  error = a3 - y\n",
        "\n",
        "  d_w3 = np.matmul(a2.T, error)\n",
        "  d_b3 = np.sum(error, axis=0, keepdims=True)\n",
        "  d_a2 = np.matmul(w3, error.T) * relu_derivative(z2).T\n",
        "\n",
        "  d_w2 = np.matmul(d_a2, a1).T\n",
        "  d_b2 = np.sum(d_a2, axis=1, keepdims=True).T\n",
        "  d_a1 = np.matmul(w2, d_a2) * relu_derivative(z1).T\n",
        "\n",
        "  d_w1 = np.matmul(d_a1, X).T\n",
        "  d_b1 = np.sum(d_a1, axis=1, keepdims=True).T\n",
        "\n",
        "  wb[\"w3\"] -= d_w3 * learning_rate\n",
        "  wb[\"b3\"] -= d_b3 * learning_rate\n",
        "  wb[\"w2\"] -= d_w2 * learning_rate\n",
        "  wb[\"b2\"] -= d_b2 * learning_rate\n",
        "  wb[\"w1\"] -= d_w1 * learning_rate\n",
        "  wb[\"b1\"] -= d_b1 * learning_rate\n",
        "\n",
        "  return wb"
      ],
      "metadata": {
        "id": "gy-ncNSlDfrd"
      },
      "execution_count": 12,
      "outputs": []
    },
    {
      "cell_type": "code",
      "source": [
        "def train(X, y, wb, epochs, learning_rate, clip_value, X_val, y_val):\n",
        "  for i in range(epochs):\n",
        "    wb = backpropagation(X, y, wb, learning_rate, clip_value)\n",
        "    training_accuracy = accuracy(X, y)\n",
        "    val_accuracy = accuracy(X_val, y_val)\n",
        "    print(f\"Epoch: {i} Training accuracy: {round(training_accuracy, 5)} Validation accuracy: {round(val_accuracy, 5)}\")"
      ],
      "metadata": {
        "id": "e5dwEQ4uKhQd"
      },
      "execution_count": 13,
      "outputs": []
    },
    {
      "cell_type": "code",
      "source": [
        "train(X_train, y_train, wb, 35, 0.00001, 3, X_val, y_val)"
      ],
      "metadata": {
        "colab": {
          "base_uri": "https://localhost:8080/"
        },
        "id": "kbWDzWxqbo1Z",
        "outputId": "46add95e-af18-4afd-fff5-1c7fc026be5d"
      },
      "execution_count": 29,
      "outputs": [
        {
          "output_type": "stream",
          "name": "stdout",
          "text": [
            "Epoch: 0 Training accuracy: 0.32386 Validation accuracy: 0.3253\n",
            "Epoch: 1 Training accuracy: 0.4816 Validation accuracy: 0.4957\n",
            "Epoch: 2 Training accuracy: 0.57856 Validation accuracy: 0.5991\n",
            "Epoch: 3 Training accuracy: 0.63122 Validation accuracy: 0.6598\n",
            "Epoch: 4 Training accuracy: 0.66162 Validation accuracy: 0.6941\n",
            "Epoch: 5 Training accuracy: 0.6816 Validation accuracy: 0.715\n",
            "Epoch: 6 Training accuracy: 0.69492 Validation accuracy: 0.7285\n",
            "Epoch: 7 Training accuracy: 0.70506 Validation accuracy: 0.7387\n",
            "Epoch: 8 Training accuracy: 0.71134 Validation accuracy: 0.7453\n",
            "Epoch: 9 Training accuracy: 0.71658 Validation accuracy: 0.7492\n",
            "Epoch: 10 Training accuracy: 0.71992 Validation accuracy: 0.7533\n",
            "Epoch: 11 Training accuracy: 0.72376 Validation accuracy: 0.7555\n",
            "Epoch: 12 Training accuracy: 0.72622 Validation accuracy: 0.7589\n",
            "Epoch: 13 Training accuracy: 0.72782 Validation accuracy: 0.7603\n",
            "Epoch: 14 Training accuracy: 0.72938 Validation accuracy: 0.7618\n",
            "Epoch: 15 Training accuracy: 0.7308 Validation accuracy: 0.765\n",
            "Epoch: 16 Training accuracy: 0.73214 Validation accuracy: 0.766\n",
            "Epoch: 17 Training accuracy: 0.73242 Validation accuracy: 0.7667\n",
            "Epoch: 18 Training accuracy: 0.73358 Validation accuracy: 0.7679\n",
            "Epoch: 19 Training accuracy: 0.73424 Validation accuracy: 0.7676\n",
            "Epoch: 20 Training accuracy: 0.73476 Validation accuracy: 0.769\n",
            "Epoch: 21 Training accuracy: 0.73514 Validation accuracy: 0.7699\n",
            "Epoch: 22 Training accuracy: 0.73552 Validation accuracy: 0.7693\n",
            "Epoch: 23 Training accuracy: 0.73592 Validation accuracy: 0.7697\n",
            "Epoch: 24 Training accuracy: 0.73642 Validation accuracy: 0.7703\n",
            "Epoch: 25 Training accuracy: 0.73692 Validation accuracy: 0.7703\n",
            "Epoch: 26 Training accuracy: 0.7376 Validation accuracy: 0.7709\n",
            "Epoch: 27 Training accuracy: 0.73796 Validation accuracy: 0.7708\n",
            "Epoch: 28 Training accuracy: 0.73848 Validation accuracy: 0.7712\n",
            "Epoch: 29 Training accuracy: 0.73884 Validation accuracy: 0.7712\n",
            "Epoch: 30 Training accuracy: 0.73888 Validation accuracy: 0.7713\n",
            "Epoch: 31 Training accuracy: 0.73934 Validation accuracy: 0.7714\n",
            "Epoch: 32 Training accuracy: 0.73966 Validation accuracy: 0.772\n",
            "Epoch: 33 Training accuracy: 0.73986 Validation accuracy: 0.7723\n",
            "Epoch: 34 Training accuracy: 0.7404 Validation accuracy: 0.7723\n"
          ]
        }
      ]
    },
    {
      "cell_type": "code",
      "source": [
        "test_accuracy = accuracy(X_test, y_test)"
      ],
      "metadata": {
        "id": "1Q5o-y4DvMme"
      },
      "execution_count": 30,
      "outputs": []
    },
    {
      "cell_type": "code",
      "source": [
        "print(test_accuracy)"
      ],
      "metadata": {
        "colab": {
          "base_uri": "https://localhost:8080/"
        },
        "id": "3opNFCupvgmw",
        "outputId": "90695343-795a-4214-c628-7c83b2efd036"
      },
      "execution_count": 31,
      "outputs": [
        {
          "output_type": "stream",
          "name": "stdout",
          "text": [
            "0.7503\n"
          ]
        }
      ]
    }
  ]
}